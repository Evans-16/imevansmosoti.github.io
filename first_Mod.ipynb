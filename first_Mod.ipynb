{
  "nbformat": 4,
  "nbformat_minor": 0,
  "metadata": {
    "colab": {
      "provenance": [],
      "gpuType": "T4",
      "mount_file_id": "1WpbXim8g9XQhfdT-APXBj7XIl1JY8as6",
      "authorship_tag": "ABX9TyP0GMKS8MTi357Oq8nn5JWe"
    },
    "kernelspec": {
      "name": "python3",
      "display_name": "Python 3"
    },
    "language_info": {
      "name": "python"
    },
    "accelerator": "GPU"
  },
  "cells": [
    {
      "cell_type": "code",
      "source": [
        "import numpy as np # linear algebra\n",
        "import pandas as pd # data processing, CSV file I/O (e.g. pd.read_csv)\n",
        "\n",
        "# Input data files are available in the read-only \"../input/\" directory\n",
        "# For example, running this (by clicking run or pressing Shift+Enter) will list all files under the input directory\n",
        "\n",
        "import os"
      ],
      "metadata": {
        "id": "ioXOc5lSElyu"
      },
      "execution_count": 2,
      "outputs": []
    },
    {
      "cell_type": "code",
      "source": [
        "import matplotlib.pyplot as plt\n",
        "from sklearn.preprocessing import LabelEncoder\n",
        "import cv2\n",
        "from sklearn.model_selection import train_test_split\n",
        "from sklearn.utils import shuffle"
      ],
      "metadata": {
        "id": "LJcrGjf8Eqe6"
      },
      "execution_count": 3,
      "outputs": []
    },
    {
      "cell_type": "code",
      "source": [
        "from keras.models import Sequential\n",
        "from keras.layers import Dense,Dropout,Flatten\n",
        "from keras.layers import Conv2D,MaxPool2D\n",
        "from keras.layers import Input, Dense\n",
        "from keras.utils import to_categorical\n",
        "from keras.models import Model\n",
        "from keras.preprocessing.image import ImageDataGenerator\n",
        "from sklearn.metrics import confusion_matrix\n",
        "from keras.applications.vgg16 import VGG16\n",
        "from numpy import argmax"
      ],
      "metadata": {
        "id": "f1zX5mG0Etyu"
      },
      "execution_count": 4,
      "outputs": []
    },
    {
      "cell_type": "code",
      "source": [
        "PATH = \"/content/drive/MyDrive/eyediseases/Training\"\n",
        "data_dir_list = os.listdir(PATH)\n",
        "data_dir_list"
      ],
      "metadata": {
        "colab": {
          "base_uri": "https://localhost:8080/"
        },
        "id": "j4MpjSb8ExCj",
        "outputId": "506d669f-38cf-46af-c198-45ac65240478"
      },
      "execution_count": 5,
      "outputs": [
        {
          "output_type": "execute_result",
          "data": {
            "text/plain": [
              "['Glaucoma', 'Cataracts', 'Uveitis', 'Crossed_Eyes', 'Bulging_eyes']"
            ]
          },
          "metadata": {},
          "execution_count": 5
        }
      ]
    },
    {
      "cell_type": "code",
      "source": [
        "img_rows=224\n",
        "img_cols=224\n",
        "num_channel=3\n",
        "\n",
        "num_epoch = 50\n",
        "batch_size = 2\n",
        "\n",
        "img_data_list=[]\n",
        "classes_names_list=[]\n",
        "target_column=[]\n",
        "for dataset in data_dir_list:\n",
        "    classes_names_list.append(dataset)\n",
        "    print(\"Getting image from {} folder\".format(dataset))\n",
        "    img_list= os.listdir(PATH +\"/\"+ dataset)\n",
        "    for img in img_list:\n",
        "        input_img = cv2.imread(PATH +\"/\"+dataset+\"/\"+img)\n",
        "        input_img_resize=cv2.resize(input_img,(img_rows,img_cols))\n",
        "        img_data_list.append(input_img_resize)\n",
        "        target_column.append(dataset)"
      ],
      "metadata": {
        "colab": {
          "base_uri": "https://localhost:8080/"
        },
        "id": "2wpl--7FE2Od",
        "outputId": "2cd3d2b7-4ece-4cb2-d581-441ecfe67325"
      },
      "execution_count": 6,
      "outputs": [
        {
          "output_type": "stream",
          "name": "stdout",
          "text": [
            "Getting image from Glaucoma folder\n",
            "Getting image from Cataracts folder\n",
            "Getting image from Uveitis folder\n",
            "Getting image from Crossed_Eyes folder\n",
            "Getting image from Bulging_eyes folder\n"
          ]
        }
      ]
    },
    {
      "cell_type": "code",
      "source": [
        "num_classes = len(classes_names_list)\n",
        "print(\"num_classes\",num_classes)\n",
        "img_data = np.array(img_data_list) # convert images in numpy array\n",
        "img_data = img_data.astype('float32')\n",
        "img_data /= 255\n",
        "print(\"Shape of image data\",img_data.shape)\n",
        "num_of_samples = img_data.shape[0]\n",
        "input_shape = img_data[0].shape"
      ],
      "metadata": {
        "colab": {
          "base_uri": "https://localhost:8080/"
        },
        "id": "9R6LxXhfE3Yl",
        "outputId": "272f09fe-e237-4032-a80e-4176f91dd3db"
      },
      "execution_count": 7,
      "outputs": [
        {
          "output_type": "stream",
          "name": "stdout",
          "text": [
            "num_classes 5\n",
            "Shape of image data (383, 224, 224, 3)\n"
          ]
        }
      ]
    },
    {
      "cell_type": "code",
      "source": [
        "num_of_samples"
      ],
      "metadata": {
        "colab": {
          "base_uri": "https://localhost:8080/"
        },
        "id": "sb7kteESE69O",
        "outputId": "ab6010b7-fd09-4376-dde6-b85bbdf51e1a"
      },
      "execution_count": 8,
      "outputs": [
        {
          "output_type": "execute_result",
          "data": {
            "text/plain": [
              "383"
            ]
          },
          "metadata": {},
          "execution_count": 8
        }
      ]
    },
    {
      "cell_type": "code",
      "source": [
        "Labelencoder = LabelEncoder()\n",
        "target_column = Labelencoder.fit_transform(target_column)\n",
        "np.unique(target_column)"
      ],
      "metadata": {
        "colab": {
          "base_uri": "https://localhost:8080/"
        },
        "id": "MXZtIBw7E_qh",
        "outputId": "cac2e8ce-7a8d-44ae-f58c-cd970908e6ad"
      },
      "execution_count": 9,
      "outputs": [
        {
          "output_type": "execute_result",
          "data": {
            "text/plain": [
              "array([0, 1, 2, 3, 4])"
            ]
          },
          "metadata": {},
          "execution_count": 9
        }
      ]
    },
    {
      "cell_type": "code",
      "source": [
        "target_column"
      ],
      "metadata": {
        "colab": {
          "base_uri": "https://localhost:8080/"
        },
        "id": "2brb2LZFFDuQ",
        "outputId": "f55273a2-2d8c-4721-8106-c2f1617ddb1d"
      },
      "execution_count": 10,
      "outputs": [
        {
          "output_type": "execute_result",
          "data": {
            "text/plain": [
              "array([3, 3, 3, 3, 3, 3, 3, 3, 3, 3, 3, 3, 3, 3, 3, 3, 3, 3, 3, 3, 3, 3,\n",
              "       3, 3, 3, 3, 3, 3, 3, 3, 3, 3, 3, 3, 3, 3, 3, 3, 3, 3, 3, 3, 3, 3,\n",
              "       3, 3, 3, 3, 3, 3, 3, 3, 3, 3, 3, 3, 3, 3, 3, 3, 3, 3, 3, 3, 3, 3,\n",
              "       3, 3, 3, 3, 3, 3, 3, 3, 3, 3, 3, 3, 3, 3, 3, 3, 1, 1, 1, 1, 1, 1,\n",
              "       1, 1, 1, 1, 1, 1, 1, 1, 1, 1, 1, 1, 1, 1, 1, 1, 1, 1, 1, 1, 1, 1,\n",
              "       1, 1, 1, 1, 1, 1, 1, 1, 1, 1, 1, 1, 1, 1, 1, 1, 1, 1, 1, 4, 4, 4,\n",
              "       4, 4, 4, 4, 4, 4, 4, 4, 4, 4, 4, 4, 4, 4, 4, 4, 4, 4, 4, 4, 4, 4,\n",
              "       4, 4, 4, 4, 4, 4, 4, 4, 4, 4, 4, 4, 4, 4, 4, 4, 4, 4, 4, 4, 4, 4,\n",
              "       4, 4, 4, 2, 2, 2, 2, 2, 2, 2, 2, 2, 2, 2, 2, 2, 2, 2, 2, 2, 2, 2,\n",
              "       2, 2, 2, 2, 2, 2, 2, 2, 2, 2, 2, 2, 2, 2, 2, 2, 2, 2, 2, 2, 2, 2,\n",
              "       2, 2, 2, 2, 2, 2, 2, 2, 2, 2, 2, 2, 2, 2, 2, 2, 2, 2, 2, 2, 2, 2,\n",
              "       2, 2, 2, 2, 2, 2, 2, 2, 2, 2, 2, 2, 2, 2, 2, 2, 2, 2, 2, 2, 2, 2,\n",
              "       2, 2, 2, 2, 2, 2, 2, 2, 2, 2, 2, 2, 2, 2, 2, 2, 2, 2, 2, 2, 2, 2,\n",
              "       2, 2, 2, 2, 2, 2, 2, 2, 2, 2, 2, 2, 2, 2, 2, 2, 2, 2, 2, 2, 2, 2,\n",
              "       2, 2, 2, 2, 2, 2, 2, 2, 2, 2, 2, 2, 2, 2, 2, 2, 2, 2, 2, 2, 2, 2,\n",
              "       2, 2, 2, 2, 2, 2, 2, 2, 2, 2, 2, 2, 2, 2, 2, 2, 2, 2, 2, 2, 2, 2,\n",
              "       2, 0, 0, 0, 0, 0, 0, 0, 0, 0, 0, 0, 0, 0, 0, 0, 0, 0, 0, 0, 0, 0,\n",
              "       0, 0, 0, 0, 0, 0, 0, 0, 0])"
            ]
          },
          "metadata": {},
          "execution_count": 10
        }
      ]
    },
    {
      "cell_type": "code",
      "source": [
        "target_column_hotcoded = to_categorical(target_column,num_classes)\n",
        "X,Y = shuffle(img_data,target_column_hotcoded,random_state=2)\n",
        "X_train,X_temp,y_train,y_temp = train_test_split(X,Y,test_size=0.3,random_state=2)\n",
        "X_test,X_val,y_test,y_val = train_test_split(X_temp,y_temp,test_size=0.3,random_state=2)"
      ],
      "metadata": {
        "id": "LdXjIU4JFGmG"
      },
      "execution_count": 11,
      "outputs": []
    },
    {
      "cell_type": "code",
      "source": [
        "from keras.models import Sequential\n",
        "from keras.layers import Dense, Flatten\n",
        "\n",
        "# Define your model\n",
        "first_Mod = Sequential([\n",
        "    Flatten(input_shape=(input_shape)),  # Assuming input_shape is defined elsewhere\n",
        "    Dense(128, activation='relu'),\n",
        "    Dense(num_classes, activation='softmax')\n",
        "])\n",
        "\n",
        "# Compile the model\n",
        "first_Mod.compile(loss='categorical_crossentropy', optimizer='adam', metrics=['accuracy'])\n",
        "\n",
        "# Print a summary of the model\n",
        "first_Mod.summary()\n"
      ],
      "metadata": {
        "colab": {
          "base_uri": "https://localhost:8080/"
        },
        "id": "42InQ5fpFKgT",
        "outputId": "b10b2097-a1ed-4096-bb0d-465e0aa1dfb9"
      },
      "execution_count": 12,
      "outputs": [
        {
          "output_type": "stream",
          "name": "stdout",
          "text": [
            "Model: \"sequential\"\n",
            "_________________________________________________________________\n",
            " Layer (type)                Output Shape              Param #   \n",
            "=================================================================\n",
            " flatten (Flatten)           (None, 150528)            0         \n",
            "                                                                 \n",
            " dense (Dense)               (None, 128)               19267712  \n",
            "                                                                 \n",
            " dense_1 (Dense)             (None, 5)                 645       \n",
            "                                                                 \n",
            "=================================================================\n",
            "Total params: 19,268,357\n",
            "Trainable params: 19,268,357\n",
            "Non-trainable params: 0\n",
            "_________________________________________________________________\n"
          ]
        }
      ]
    },
    {
      "cell_type": "code",
      "source": [
        "hist = first_Mod.fit(X_train,y_train,batch_size=batch_size,epochs=num_epoch,verbose=1,validation_data=(X_test,y_test))\n",
        "score = first_Mod.evaluate(X_test,y_test,batch_size=batch_size)"
      ],
      "metadata": {
        "colab": {
          "base_uri": "https://localhost:8080/"
        },
        "id": "WWMpqQpBFOQD",
        "outputId": "ba10e7a1-23d0-41ed-9872-9f102858b8be"
      },
      "execution_count": 13,
      "outputs": [
        {
          "output_type": "stream",
          "name": "stdout",
          "text": [
            "Epoch 1/50\n",
            "134/134 [==============================] - 3s 10ms/step - loss: 55.3167 - accuracy: 0.2948 - val_loss: 26.5673 - val_accuracy: 0.2000\n",
            "Epoch 2/50\n",
            "134/134 [==============================] - 1s 8ms/step - loss: 22.8983 - accuracy: 0.3545 - val_loss: 9.8665 - val_accuracy: 0.5000\n",
            "Epoch 3/50\n",
            "134/134 [==============================] - 1s 8ms/step - loss: 8.5147 - accuracy: 0.4254 - val_loss: 6.5887 - val_accuracy: 0.4625\n",
            "Epoch 4/50\n",
            "134/134 [==============================] - 1s 8ms/step - loss: 2.2102 - accuracy: 0.3918 - val_loss: 1.8275 - val_accuracy: 0.4750\n",
            "Epoch 5/50\n",
            "134/134 [==============================] - 1s 8ms/step - loss: 1.3785 - accuracy: 0.4291 - val_loss: 1.6264 - val_accuracy: 0.0875\n",
            "Epoch 6/50\n",
            "134/134 [==============================] - 2s 12ms/step - loss: 1.5528 - accuracy: 0.4440 - val_loss: 1.6004 - val_accuracy: 0.4750\n",
            "Epoch 7/50\n",
            "134/134 [==============================] - 1s 9ms/step - loss: 1.5189 - accuracy: 0.4664 - val_loss: 1.6035 - val_accuracy: 0.4875\n",
            "Epoch 8/50\n",
            "134/134 [==============================] - 1s 9ms/step - loss: 1.5147 - accuracy: 0.4515 - val_loss: 1.5197 - val_accuracy: 0.5000\n",
            "Epoch 9/50\n",
            "134/134 [==============================] - 1s 8ms/step - loss: 1.4836 - accuracy: 0.4552 - val_loss: 1.5397 - val_accuracy: 0.4750\n",
            "Epoch 10/50\n",
            "134/134 [==============================] - 1s 8ms/step - loss: 1.4567 - accuracy: 0.4552 - val_loss: 1.4838 - val_accuracy: 0.4875\n",
            "Epoch 11/50\n",
            "134/134 [==============================] - 1s 8ms/step - loss: 1.4599 - accuracy: 0.4664 - val_loss: 1.4518 - val_accuracy: 0.5125\n",
            "Epoch 12/50\n",
            "134/134 [==============================] - 1s 8ms/step - loss: 1.4564 - accuracy: 0.4478 - val_loss: 1.4326 - val_accuracy: 0.5125\n",
            "Epoch 13/50\n",
            "134/134 [==============================] - 1s 8ms/step - loss: 1.4705 - accuracy: 0.4403 - val_loss: 1.4191 - val_accuracy: 0.5125\n",
            "Epoch 14/50\n",
            "134/134 [==============================] - 1s 8ms/step - loss: 1.4627 - accuracy: 0.4403 - val_loss: 1.4084 - val_accuracy: 0.5125\n",
            "Epoch 15/50\n",
            "134/134 [==============================] - 1s 8ms/step - loss: 1.4560 - accuracy: 0.4403 - val_loss: 1.3991 - val_accuracy: 0.5125\n",
            "Epoch 16/50\n",
            "134/134 [==============================] - 1s 8ms/step - loss: 1.4727 - accuracy: 0.4403 - val_loss: 1.3902 - val_accuracy: 0.5125\n",
            "Epoch 17/50\n",
            "134/134 [==============================] - 1s 8ms/step - loss: 1.4544 - accuracy: 0.4366 - val_loss: 1.3835 - val_accuracy: 0.5125\n",
            "Epoch 18/50\n",
            "134/134 [==============================] - 1s 11ms/step - loss: 1.4509 - accuracy: 0.4366 - val_loss: 1.3778 - val_accuracy: 0.5125\n",
            "Epoch 19/50\n",
            "134/134 [==============================] - 1s 9ms/step - loss: 1.4484 - accuracy: 0.4366 - val_loss: 1.3726 - val_accuracy: 0.5125\n",
            "Epoch 20/50\n",
            "134/134 [==============================] - 1s 8ms/step - loss: 1.4460 - accuracy: 0.4366 - val_loss: 1.3673 - val_accuracy: 0.5125\n",
            "Epoch 21/50\n",
            "134/134 [==============================] - 1s 8ms/step - loss: 1.4443 - accuracy: 0.4366 - val_loss: 1.3641 - val_accuracy: 0.5125\n",
            "Epoch 22/50\n",
            "134/134 [==============================] - 1s 8ms/step - loss: 1.4427 - accuracy: 0.4366 - val_loss: 1.3605 - val_accuracy: 0.5125\n",
            "Epoch 23/50\n",
            "134/134 [==============================] - 1s 8ms/step - loss: 1.4417 - accuracy: 0.4366 - val_loss: 1.3581 - val_accuracy: 0.5125\n",
            "Epoch 24/50\n",
            "134/134 [==============================] - 1s 8ms/step - loss: 1.4405 - accuracy: 0.4366 - val_loss: 1.3559 - val_accuracy: 0.5125\n",
            "Epoch 25/50\n",
            "134/134 [==============================] - 1s 8ms/step - loss: 1.4399 - accuracy: 0.4366 - val_loss: 1.3532 - val_accuracy: 0.5125\n",
            "Epoch 26/50\n",
            "134/134 [==============================] - 1s 8ms/step - loss: 1.4392 - accuracy: 0.4366 - val_loss: 1.3515 - val_accuracy: 0.5125\n",
            "Epoch 27/50\n",
            "134/134 [==============================] - 1s 8ms/step - loss: 1.4385 - accuracy: 0.4366 - val_loss: 1.3498 - val_accuracy: 0.5125\n",
            "Epoch 28/50\n",
            "134/134 [==============================] - 1s 8ms/step - loss: 1.4379 - accuracy: 0.4366 - val_loss: 1.3486 - val_accuracy: 0.5125\n",
            "Epoch 29/50\n",
            "134/134 [==============================] - 1s 9ms/step - loss: 1.4378 - accuracy: 0.4366 - val_loss: 1.3474 - val_accuracy: 0.5125\n",
            "Epoch 30/50\n",
            "134/134 [==============================] - 1s 10ms/step - loss: 1.4374 - accuracy: 0.4366 - val_loss: 1.3468 - val_accuracy: 0.5125\n",
            "Epoch 31/50\n",
            "134/134 [==============================] - 1s 10ms/step - loss: 1.4370 - accuracy: 0.4366 - val_loss: 1.3456 - val_accuracy: 0.5125\n",
            "Epoch 32/50\n",
            "134/134 [==============================] - 1s 8ms/step - loss: 1.4370 - accuracy: 0.4366 - val_loss: 1.3446 - val_accuracy: 0.5125\n",
            "Epoch 33/50\n",
            "134/134 [==============================] - 1s 8ms/step - loss: 1.4367 - accuracy: 0.4366 - val_loss: 1.3433 - val_accuracy: 0.5125\n",
            "Epoch 34/50\n",
            "134/134 [==============================] - 1s 8ms/step - loss: 1.4366 - accuracy: 0.4366 - val_loss: 1.3430 - val_accuracy: 0.5125\n",
            "Epoch 35/50\n",
            "134/134 [==============================] - 1s 8ms/step - loss: 1.4365 - accuracy: 0.4366 - val_loss: 1.3428 - val_accuracy: 0.5125\n",
            "Epoch 36/50\n",
            "134/134 [==============================] - 1s 8ms/step - loss: 1.4364 - accuracy: 0.4366 - val_loss: 1.3421 - val_accuracy: 0.5125\n",
            "Epoch 37/50\n",
            "134/134 [==============================] - 1s 8ms/step - loss: 1.4362 - accuracy: 0.4366 - val_loss: 1.3416 - val_accuracy: 0.5125\n",
            "Epoch 38/50\n",
            "134/134 [==============================] - 1s 8ms/step - loss: 1.4362 - accuracy: 0.4366 - val_loss: 1.3412 - val_accuracy: 0.5125\n",
            "Epoch 39/50\n",
            "134/134 [==============================] - 1s 8ms/step - loss: 1.4361 - accuracy: 0.4366 - val_loss: 1.3408 - val_accuracy: 0.5125\n",
            "Epoch 40/50\n",
            "134/134 [==============================] - 1s 8ms/step - loss: 1.4362 - accuracy: 0.4366 - val_loss: 1.3403 - val_accuracy: 0.5125\n",
            "Epoch 41/50\n",
            "134/134 [==============================] - 1s 9ms/step - loss: 1.4362 - accuracy: 0.4366 - val_loss: 1.3404 - val_accuracy: 0.5125\n",
            "Epoch 42/50\n",
            "134/134 [==============================] - 1s 9ms/step - loss: 1.4360 - accuracy: 0.4366 - val_loss: 1.3402 - val_accuracy: 0.5125\n",
            "Epoch 43/50\n",
            "134/134 [==============================] - 1s 9ms/step - loss: 1.4360 - accuracy: 0.4366 - val_loss: 1.3400 - val_accuracy: 0.5125\n",
            "Epoch 44/50\n",
            "134/134 [==============================] - 1s 8ms/step - loss: 1.4360 - accuracy: 0.4366 - val_loss: 1.3394 - val_accuracy: 0.5125\n",
            "Epoch 45/50\n",
            "134/134 [==============================] - 1s 8ms/step - loss: 1.4360 - accuracy: 0.4366 - val_loss: 1.3395 - val_accuracy: 0.5125\n",
            "Epoch 46/50\n",
            "134/134 [==============================] - 1s 8ms/step - loss: 1.4360 - accuracy: 0.4366 - val_loss: 1.3389 - val_accuracy: 0.5125\n",
            "Epoch 47/50\n",
            "134/134 [==============================] - 1s 8ms/step - loss: 1.4360 - accuracy: 0.4366 - val_loss: 1.3392 - val_accuracy: 0.5125\n",
            "Epoch 48/50\n",
            "134/134 [==============================] - 1s 8ms/step - loss: 1.4361 - accuracy: 0.4366 - val_loss: 1.3389 - val_accuracy: 0.5125\n",
            "Epoch 49/50\n",
            "134/134 [==============================] - 1s 8ms/step - loss: 1.4358 - accuracy: 0.4366 - val_loss: 1.3388 - val_accuracy: 0.5125\n",
            "Epoch 50/50\n",
            "134/134 [==============================] - 1s 8ms/step - loss: 1.4360 - accuracy: 0.4366 - val_loss: 1.3384 - val_accuracy: 0.5125\n",
            "40/40 [==============================] - 0s 2ms/step - loss: 1.3384 - accuracy: 0.5125\n"
          ]
        }
      ]
    },
    {
      "cell_type": "code",
      "source": [
        "print(\"Loss of the model is - \" , first_Mod.evaluate(X_temp,y_temp)[0])\n",
        "print(\"Accuracy of the model is - \" , first_Mod.evaluate(X_temp,y_temp)[1]*100 , \"%\")"
      ],
      "metadata": {
        "colab": {
          "base_uri": "https://localhost:8080/"
        },
        "id": "nl04LMkfFRCV",
        "outputId": "30199f70-4b2a-4b5e-fca7-04889363b3ea"
      },
      "execution_count": 14,
      "outputs": [
        {
          "output_type": "stream",
          "name": "stdout",
          "text": [
            "4/4 [==============================] - 0s 9ms/step - loss: 1.3641 - accuracy: 0.4957\n",
            "Loss of the model is -  1.3640791177749634\n",
            "4/4 [==============================] - 0s 10ms/step - loss: 1.3641 - accuracy: 0.4957\n",
            "Accuracy of the model is -  49.56521689891815 %\n"
          ]
        }
      ]
    },
    {
      "cell_type": "code",
      "source": [
        "epochs = [i for i in range(50)]\n",
        "fig , ax = plt.subplots(1,2)\n",
        "train_acc = hist.history['accuracy']\n",
        "train_loss = hist.history['loss']\n",
        "val_acc = hist.history['val_accuracy']\n",
        "val_loss = hist.history['val_loss']\n",
        "fig.set_size_inches(20,10)\n",
        "\n",
        "ax[0].plot(epochs , train_acc , 'go-' , label = 'Training Accuracy')\n",
        "ax[0].plot(epochs , val_acc , 'ro-' , label = 'Validation Accuracy')\n",
        "ax[0].set_title('Training & Validation Accuracy')\n",
        "ax[0].legend()\n",
        "ax[0].set_xlabel(\"Epochs\")\n",
        "ax[0].set_ylabel(\"Accuracy\")\n",
        "\n",
        "ax[1].plot(epochs , train_loss , 'g-o' , label = 'Training Loss')\n",
        "ax[1].plot(epochs , val_loss , 'r-o' , label = 'Validation Loss')\n",
        "ax[1].set_title('Testing Accuracy & Loss')\n",
        "ax[1].legend()\n",
        "ax[1].set_xlabel(\"Epochs\")\n",
        "ax[1].set_ylabel(\"Training & Validation Loss\")\n",
        "plt.show()"
      ],
      "metadata": {
        "colab": {
          "base_uri": "https://localhost:8080/",
          "height": 654
        },
        "id": "mBF9ZnvfFWYa",
        "outputId": "7048c157-0f7b-4bdf-e362-2c052090e728"
      },
      "execution_count": 15,
      "outputs": [
        {
          "output_type": "display_data",
          "data": {
            "text/plain": [
              "<Figure size 2000x1000 with 2 Axes>"
            ],
            "image/png": "[encoded data removed]"
          },
          "metadata": {}
        }
      ]
    },
    {
      "cell_type": "code",
      "source": [
        "predictions = first_Mod.predict(X_test)\n",
        "predictions = predictions.reshape(1,-1)[0]\n",
        "predictions[:15]"
      ],
      "metadata": {
        "colab": {
          "base_uri": "https://localhost:8080/"
        },
        "id": "07gKLMWCFfvR",
        "outputId": "24ff0c04-2008-4be1-996c-87973953fc2d"
      },
      "execution_count": 16,
      "outputs": [
        {
          "output_type": "stream",
          "name": "stdout",
          "text": [
            "3/3 [==============================] - 0s 7ms/step\n"
          ]
        },
        {
          "output_type": "execute_result",
          "data": {
            "text/plain": [
              "array([0.08150405, 0.13805042, 0.43610144, 0.20692126, 0.13742283,\n",
              "       0.08150405, 0.13805042, 0.43610144, 0.20692126, 0.13742283,\n",
              "       0.08150405, 0.13805042, 0.43610144, 0.20692126, 0.13742283],\n",
              "      dtype=float32)"
            ]
          },
          "metadata": {},
          "execution_count": 16
        }
      ]
    },
    {
      "cell_type": "code",
      "source": [
        "from keras.models import Model\n",
        "first_Mod.save('/content/drive/MyDrive/mod2/first_Mod.keras')"
      ],
      "metadata": {
        "id": "o2pgMB5UFh0t"
      },
      "execution_count": 17,
      "outputs": []
    }
  ]
}